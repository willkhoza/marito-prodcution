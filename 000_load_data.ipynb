{
 "cells": [
  {
   "cell_type": "code",
   "execution_count": 13,
   "metadata": {},
   "outputs": [],
   "source": [
    "from sqlalchemy.engine.url import URL\n",
    "from sqlalchemy import create_engine\n",
    "\n",
    "import pandas as pd\n",
    "import os"
   ]
  },
  {
   "cell_type": "code",
   "execution_count": 10,
   "metadata": {},
   "outputs": [],
   "source": [
    "class Postgres:\n",
    "    \"\"\"Connection to PostgreSQL instance\"\"\"\n",
    "\n",
    "    def __init__(self) -> None:\n",
    "        self.postgres_db = {\n",
    "            'drivername': 'postgresql',\n",
    "            'username': 'postgres',\n",
    "            'password': 'arlito',\n",
    "            'host': 'localhost',\n",
    "            'port': 5432,\n",
    "            'database': 'prod'\n",
    "        }\n",
    "\n",
    "    def connect(self):\n",
    "        engine = create_engine(URL(**self.postgres_db))\n",
    "        return engine.connect()"
   ]
  },
  {
   "cell_type": "code",
   "execution_count": 11,
   "metadata": {},
   "outputs": [
    {
     "name": "stderr",
     "output_type": "stream",
     "text": [
      "<ipython-input-10-a0ad21482d1b>:15: SADeprecationWarning: Calling URL() directly is deprecated and will be disabled in a future release.  The public constructor for URL is now the URL.create() method.\n",
      "  engine = create_engine(URL(**self.postgres_db))\n"
     ]
    }
   ],
   "source": [
    "psql = Postgres()\n",
    "conn = psql.connect()"
   ]
  },
  {
   "cell_type": "code",
   "execution_count": 47,
   "metadata": {},
   "outputs": [],
   "source": [
    "home = 'Marito Sources'\n",
    "LANS = ['SIS', 'XHO', 'SEP', 'ZUL', 'NDE', 'VEN', 'SES', 'SET', 'TSO']\n"
   ]
  },
  {
   "cell_type": "code",
   "execution_count": 85,
   "metadata": {},
   "outputs": [],
   "source": [
    "def read_everything(SRC, LAN, sep_, colnames):\n",
    "    root_path = '/'.join(['Marito Sources', SRC, LAN])\n",
    "    file_names = ['/'.join([root_path, file]) for file in os.listdir(root_path)]\n",
    "    dat = pd.concat(list(map(lambda x: pd.read_table(x, sep=sep_, header=None, names = colnames), file_names) ))\n",
    "    dat['lan'] = LAN\n",
    "    dat['src'] = ' '.join(file_names)\n",
    "    print(SRC)\n",
    "    return dat"
   ]
  },
  {
   "cell_type": "code",
   "execution_count": 80,
   "metadata": {},
   "outputs": [],
   "source": [
    "pd.concat(list(map(lambda x: read_everything('AU', x, '\\t', ['eng', 'sentence']), LANS))).to_sql('au_translations', con=conn, schema='staging')"
   ]
  },
  {
   "cell_type": "code",
   "execution_count": 78,
   "metadata": {},
   "outputs": [],
   "source": [
    "pd.concat(list(map(lambda x: read_everything('TRANSLATION/Autshumato_MT_Evaluation_Set', x, '\\n', ['sentence']), LANS))).to_sql('au_translations_test', con=conn, schema='staging')"
   ]
  },
  {
   "cell_type": "code",
   "execution_count": 104,
   "metadata": {},
   "outputs": [],
   "source": [
    "def read_everything(SRC, LAN, sep_, colnames):\n",
    "    root_path = '/'.join(['Marito Sources', SRC, LAN])\n",
    "    file_names = ['/'.join([root_path, file]) for file in os.listdir(root_path)]\n",
    "    dat = pd.concat(list(map(lambda x: pd.read_csv(x, sep=sep_, header=None, names = colnames, engine='python',  encoding= 'utf8', error_bad_lines=False), file_names)))\n",
    "    dat['lan'] = LAN\n",
    "    dat['src'] = ' '.join(file_names)\n",
    "    print(SRC)\n",
    "    return dat"
   ]
  },
  {
   "cell_type": "code",
   "execution_count": 106,
   "metadata": {},
   "outputs": [
    {
     "name": "stdout",
     "output_type": "stream",
     "text": [
      "PRO\n"
     ]
    },
    {
     "name": "stderr",
     "output_type": "stream",
     "text": [
      "Skipping line 2874: unexpected end of data\n"
     ]
    },
    {
     "name": "stdout",
     "output_type": "stream",
     "text": [
      "PRO\n",
      "PRO\n"
     ]
    },
    {
     "name": "stderr",
     "output_type": "stream",
     "text": [
      "Skipping line 1219: Expected 1 fields in line 1219, saw 2\n",
      "Skipping line 1223: Expected 1 fields in line 1223, saw 2\n",
      "Skipping line 1227: Expected 1 fields in line 1227, saw 2\n",
      "Skipping line 1231: Expected 1 fields in line 1231, saw 2\n",
      "Skipping line 1235: Expected 1 fields in line 1235, saw 2\n"
     ]
    },
    {
     "name": "stdout",
     "output_type": "stream",
     "text": [
      "PRO\n",
      "PRO\n"
     ]
    },
    {
     "name": "stderr",
     "output_type": "stream",
     "text": [
      "Skipping line 8196: '\n",
      "' expected after '\"'\n"
     ]
    },
    {
     "name": "stdout",
     "output_type": "stream",
     "text": [
      "PRO\n",
      "PRO\n",
      "PRO\n"
     ]
    },
    {
     "name": "stderr",
     "output_type": "stream",
     "text": [
      "Skipping line 1386: '\n",
      "' expected after '\"'\n"
     ]
    },
    {
     "name": "stdout",
     "output_type": "stream",
     "text": [
      "PRO\n"
     ]
    }
   ],
   "source": [
    "pd.concat(list(map(lambda x: read_everything('PRO', x, '\\n', ['sentence']), LANS))).to_sql('gov', con=conn, schema='staging')"
   ]
  },
  {
   "cell_type": "code",
   "execution_count": null,
   "metadata": {},
   "outputs": [],
   "source": [
    "   root_path = '/'.join(['Marito Sources', SRC, LAN])\n",
    "    file_names = ['/'.join([root_path, file]) for file in os.listdir(root_path)]\n",
    "    dat = pd.concat(list(map(lambda x: pd.read_csv(x, sep=sep_, header=None, names = colnames, engine='python',  encoding= 'utf8', error_bad_lines=False), file_names)))\n",
    "    dat['lan'] = LAN\n",
    "    dat['src'] = ' '.join(file_names)\n",
    "    print(SRC)\n",
    "    return dat"
   ]
  }
 ],
 "metadata": {
  "interpreter": {
   "hash": "ec251d072f697a96d6df800376c5e3f24cc5033a0bb0938399f69a43322773c2"
  },
  "kernelspec": {
   "display_name": "Python 3.8.8 64-bit ('base': conda)",
   "language": "python",
   "name": "python3"
  },
  "language_info": {
   "codemirror_mode": {
    "name": "ipython",
    "version": 3
   },
   "file_extension": ".py",
   "mimetype": "text/x-python",
   "name": "python",
   "nbconvert_exporter": "python",
   "pygments_lexer": "ipython3",
   "version": "3.8.8"
  },
  "orig_nbformat": 4
 },
 "nbformat": 4,
 "nbformat_minor": 2
}
